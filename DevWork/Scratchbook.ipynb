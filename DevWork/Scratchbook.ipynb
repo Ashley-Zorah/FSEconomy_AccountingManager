{
 "cells": [
  {
   "cell_type": "code",
   "execution_count": 1,
   "metadata": {},
   "outputs": [],
   "source": [
    "import pandas as pd \n",
    "import csv\n",
    "\n",
    "financeData = {}\n",
    "\n",
    "with open(\"response.csv\") as responseCSV:\n",
    "    responseImport = csv.DictReader(responseCSV)\n",
    "    for row in responseImport:\n",
    "        paymentID = row[\"Id\"]\n",
    "        financeData[paymentID] = {\n",
    "            \"Account From\":row[\"From\"],\n",
    "            \"Account To\":row[\"To\"],\n",
    "            \"Payment Amount\":row[\"Amount\"],\n",
    "            \"Payment Reason\":row[\"Reason\"],\n",
    "            \"Payment FBO\":row[\"Fbo\"],\n",
    "            \"Payment Location\":row[\"Location\"],\n",
    "            \"Aircraft Registration\":row[\"Aircraft\"],\n",
    "            \"Misc Data\":row[\"Comment\"]\n",
    "        }"
   ]
  },
  {
   "cell_type": "code",
   "execution_count": 2,
   "metadata": {},
   "outputs": [],
   "source": [
    "recordsToRemove = []\n",
    "for record in financeData:\n",
    "    if financeData[record][\"Account From\"] == \"Aer Bridge Ltd.\" and financeData[record][\"Account To\"] == \"Aer Bridge Ltd.\":\n",
    "        recordsToRemove.append(record)\n",
    "for key in recordsToRemove:\n",
    "    financeData.pop(key)\n"
   ]
  },
  {
   "cell_type": "code",
   "execution_count": 3,
   "metadata": {},
   "outputs": [],
   "source": [
    "df = pd.DataFrame(financeData).T"
   ]
  }
 ],
 "metadata": {
  "kernelspec": {
   "display_name": "Python 3",
   "language": "python",
   "name": "python3"
  },
  "language_info": {
   "codemirror_mode": {
    "name": "ipython",
    "version": 3
   },
   "file_extension": ".py",
   "mimetype": "text/x-python",
   "name": "python",
   "nbconvert_exporter": "python",
   "pygments_lexer": "ipython3",
   "version": "3.11.4"
  },
  "orig_nbformat": 4
 },
 "nbformat": 4,
 "nbformat_minor": 2
}
