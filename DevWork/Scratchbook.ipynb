{
 "cells": [
  {
   "cell_type": "code",
   "execution_count": 10,
   "metadata": {},
   "outputs": [],
   "source": [
    "import pandas as pd \n",
    "\n",
    "df = pd.read_csv(\"response.csv\")\n",
    "\n",
    "#stripped_df = df[df.To != \"Aer Bridge Ltd.\" & df.From != \"Aer Bridge Ltd.\"]\n",
    "\n",
    "#print(stripped_df.head())"
   ]
  },
  {
   "cell_type": "code",
   "execution_count": null,
   "metadata": {},
   "outputs": [],
   "source": [
    "recordsToRemove = []\n",
    "for record in df:\n",
    "    if df[record][\"Account From\"] == \"Aer Bridge Ltd.\" and df[record][\"Account To\"] == \"Aer Bridge Ltd.\":\n",
    "        recordsToRemove.append(record)\n",
    "for key in recordsToRemove:\n",
    "    df.pop(key)\n"
   ]
  }
 ],
 "metadata": {
  "kernelspec": {
   "display_name": "Python 3",
   "language": "python",
   "name": "python3"
  },
  "language_info": {
   "codemirror_mode": {
    "name": "ipython",
    "version": 3
   },
   "file_extension": ".py",
   "mimetype": "text/x-python",
   "name": "python",
   "nbconvert_exporter": "python",
   "pygments_lexer": "ipython3",
   "version": "3.11.4"
  },
  "orig_nbformat": 4
 },
 "nbformat": 4,
 "nbformat_minor": 2
}
