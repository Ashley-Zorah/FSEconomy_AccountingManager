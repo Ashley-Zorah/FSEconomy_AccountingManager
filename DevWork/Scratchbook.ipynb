{
 "cells": [
  {
   "cell_type": "code",
   "execution_count": 15,
   "metadata": {},
   "outputs": [],
   "source": [
    "import pandas as pd \n",
    "import csv\n",
    "\n",
    "financeData = {}\n",
    "\n",
    "with open(\"response.csv\") as responseCSV:\n",
    "    responseImport = csv.DictReader(responseCSV)\n",
    "    for row in responseImport:\n",
    "        paymentID = row[\"Id\"]\n",
    "        financeData[paymentID] = {\n",
    "            \"Account From\":row[\"From\"],\n",
    "            \"Account To\":row[\"To\"],\n",
    "            \"Payment Amount\":row[\"Amount\"],\n",
    "            \"Payment Reason\":row[\"Reason\"],\n",
    "            \"Payment FBO\":row[\"Fbo\"],\n",
    "            \"Payment Location\":row[\"Location\"],\n",
    "            \"Aircraft Registration\":row[\"Aircraft\"],\n",
    "            \"Misc Data\":row[\"Comment\"]\n",
    "        }"
   ]
  },
  {
   "cell_type": "code",
   "execution_count": 19,
   "metadata": {},
   "outputs": [],
   "source": [
    "recordsToRemove = []\n",
    "for record in financeData:\n",
    "    if financeData[record][\"Account From\"] == \"Aer Bridge Ltd.\" and financeData[record][\"Account To\"] == \"Aer Bridge Ltd.\":\n",
    "        recordsToRemove.append(record)\n",
    "for key in recordsToRemove:\n",
    "    financeData.pop(key)\n"
   ]
  },
  {
   "cell_type": "code",
   "execution_count": 28,
   "metadata": {},
   "outputs": [
    {
     "name": "stdout",
     "output_type": "stream",
     "text": [
      "                                Account From       Account To Payment Amount  \\\n",
      "191725966                    Aer Bridge Ltd.             Bank        6455.00   \n",
      "191725963                    Aer Bridge Ltd.             Bank        5308.00   \n",
      "191715821  Outback Air Charter International  Aer Bridge Ltd.        6000.00   \n",
      "191714632                    Aer Bridge Ltd.         dthughes           1.00   \n",
      "191714630                    Aer Bridge Ltd.         dthughes           4.00   \n",
      "\n",
      "          Payment Reason                                        Payment FBO  \\\n",
      "191725966  Ownership Fee                                                N/A   \n",
      "191725963  Ownership Fee                                                N/A   \n",
      "191715821  Facility rent  EGBP Aer Bridge Ltd. - Cotswold Airport/Kemble...   \n",
      "191714632  Facility rent               EGCW Welshpool Rwy 04/22 Elev 233 ft   \n",
      "191714630  Facility rent         EGCK The Barnstormers' Hangar - Caernarfon   \n",
      "\n",
      "          Payment Location Aircraft Registration Misc Data  \n",
      "191725966             EINN                EI-CJB            \n",
      "191725963             EGPH                EI-ASH            \n",
      "191715821             EGBP                                  \n",
      "191714632             EGCW                                  \n",
      "191714630             EGCK                                  \n"
     ]
    }
   ],
   "source": [
    "df = pd.DataFrame(financeData).T"
   ]
  }
 ],
 "metadata": {
  "kernelspec": {
   "display_name": "Python 3",
   "language": "python",
   "name": "python3"
  },
  "language_info": {
   "codemirror_mode": {
    "name": "ipython",
    "version": 3
   },
   "file_extension": ".py",
   "mimetype": "text/x-python",
   "name": "python",
   "nbconvert_exporter": "python",
   "pygments_lexer": "ipython3",
   "version": "3.11.4"
  },
  "orig_nbformat": 4
 },
 "nbformat": 4,
 "nbformat_minor": 2
}
