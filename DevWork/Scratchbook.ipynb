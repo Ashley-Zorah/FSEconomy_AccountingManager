{
 "cells": [
  {
   "cell_type": "code",
   "execution_count": 4,
   "metadata": {},
   "outputs": [
    {
     "name": "stdout",
     "output_type": "stream",
     "text": [
      "{'Account From': 'broulma', 'Account To': 'Aer Bridge Ltd.', 'Payment Amount': '1404.66', 'Payment Reason': 'Rental of aircraft', 'Payment FBO': 'N/A', 'Payment Location': 'CSL3', 'Aircraft Registration': 'EI-ATR', 'Misc Data': ''}\n"
     ]
    }
   ],
   "source": [
    "import csv\n",
    "\n",
    "financeData = {}\n",
    "\n",
    "with open(\"response.csv\") as responseCSV:\n",
    "    responseImport = csv.DictReader(responseCSV)\n",
    "    for row in responseImport:\n",
    "        paymentID = row[\"Id\"]\n",
    "        financeData[paymentID] = {\n",
    "            \"Account From\":row[\"From\"],\n",
    "            \"Account To\":row[\"To\"],\n",
    "            \"Payment Amount\":row[\"Amount\"],\n",
    "            \"Payment Reason\":row[\"Reason\"],\n",
    "            \"Payment FBO\":row[\"Fbo\"],\n",
    "            \"Payment Location\":row[\"Location\"],\n",
    "            \"Aircraft Registration\":row[\"Aircraft\"],\n",
    "            \"Misc Data\":row[\"Comment\"]\n",
    "        }\n",
    "\n",
    "print(financeData[\"191629493\"])"
   ]
  }
 ],
 "metadata": {
  "kernelspec": {
   "display_name": "Python 3",
   "language": "python",
   "name": "python3"
  },
  "language_info": {
   "codemirror_mode": {
    "name": "ipython",
    "version": 3
   },
   "file_extension": ".py",
   "mimetype": "text/x-python",
   "name": "python",
   "nbconvert_exporter": "python",
   "pygments_lexer": "ipython3",
   "version": "3.11.4"
  },
  "orig_nbformat": 4
 },
 "nbformat": 4,
 "nbformat_minor": 2
}
